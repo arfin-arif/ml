{
  "cells": [
    {
      "cell_type": "markdown",
      "metadata": {
        "id": "view-in-github",
        "colab_type": "text"
      },
      "source": [
        "<a href=\"https://colab.research.google.com/github/arfin-arif/ml/blob/main/bengali_digits_classification.ipynb\" target=\"_parent\"><img src=\"https://colab.research.google.com/assets/colab-badge.svg\" alt=\"Open In Colab\"/></a>"
      ]
    },
    {
      "cell_type": "code",
      "execution_count": null,
      "metadata": {
        "id": "TGC-zHNFtN8I"
      },
      "outputs": [],
      "source": [
        "from tensorflow.keras.preprocessing.image import ImageDataGenerator\n",
        "from tensorflow.keras.preprocessing import image\n",
        "from tensorflow.keras.layers import Dense,Flatten\n",
        "from tensorflow.keras import Sequential\n",
        "import matplotlib.pyplot as plt\n",
        "from tensorflow import keras\n",
        "import pandas as pd\n",
        "import numpy as np\n",
        "import tensorflow\n",
        "import cv2"
      ]
    },
    {
      "cell_type": "code",
      "source": [
        "# !unzip \"/content/bengali_digits.zip\" -d \"/content/train\""
      ],
      "metadata": {
        "id": "1LX5UQA3b8nd"
      },
      "execution_count": null,
      "outputs": []
    },
    {
      "cell_type": "code",
      "execution_count": null,
      "metadata": {
        "id": "Z2jUzDRj6g9g"
      },
      "outputs": [],
      "source": [
        "# tarin = ImageDataGenerator(rescale =1/255)\n",
        "# validation = ImageDataGenerator(rescale =1/255)"
      ]
    },
    {
      "cell_type": "code",
      "execution_count": null,
      "metadata": {
        "colab": {
          "base_uri": "https://localhost:8080/"
        },
        "id": "AiVYJpKNu8Rf",
        "outputId": "394cfe49-cb0d-4d70-a916-916301b891ce"
      },
      "outputs": [
        {
          "output_type": "stream",
          "name": "stdout",
          "text": [
            "Found 15620 images belonging to 10 classes.\n"
          ]
        }
      ],
      "source": [
        "# tasting = ImageDataGenerator(rescale=1/255)\n",
        "dataset = ImageDataGenerator(rescale=1/255)\n",
        "\n",
        "train_dataset = dataset.flow_from_directory(\n",
        "    '/content/train/',\n",
        "    target_size=(28, 28),\n",
        "    batch_size=10,\n",
        "    class_mode='categorical',  # Set to 'categorical' for multiple classes\n",
        "    classes=['0', '1', '2', '3', '4', '5', '6', '7', '8', '9'],  # Specify the class labels\n",
        ")\n"
      ]
    },
    {
      "cell_type": "code",
      "execution_count": null,
      "metadata": {
        "colab": {
          "base_uri": "https://localhost:8080/"
        },
        "id": "-LIiU8Gy0jCR",
        "outputId": "c2b26503-e0c7-4b97-c738-3bc3461c1ea5"
      },
      "outputs": [
        {
          "output_type": "execute_result",
          "data": {
            "text/plain": [
              "{'0': 0,\n",
              " '1': 1,\n",
              " '2': 2,\n",
              " '3': 3,\n",
              " '4': 4,\n",
              " '5': 5,\n",
              " '6': 6,\n",
              " '7': 7,\n",
              " '8': 8,\n",
              " '9': 9}"
            ]
          },
          "metadata": {},
          "execution_count": 115
        }
      ],
      "source": [
        "train_dataset.class_indices"
      ]
    },
    {
      "cell_type": "code",
      "execution_count": null,
      "metadata": {
        "colab": {
          "base_uri": "https://localhost:8080/"
        },
        "id": "g_ap8OcK1Tds",
        "outputId": "a5193862-a333-4cd0-acdf-f9763d48a2b1"
      },
      "outputs": [
        {
          "output_type": "execute_result",
          "data": {
            "text/plain": [
              "array([0, 0, 0, ..., 9, 9, 9], dtype=int32)"
            ]
          },
          "metadata": {},
          "execution_count": 116
        }
      ],
      "source": [
        "train_dataset.labels"
      ]
    },
    {
      "cell_type": "code",
      "source": [],
      "metadata": {
        "id": "eo4FSPqR-xgl"
      },
      "execution_count": null,
      "outputs": []
    },
    {
      "cell_type": "code",
      "source": [
        "df = pd.DataFrame(train_dataset.labels)"
      ],
      "metadata": {
        "id": "-Lic86lC7hm3"
      },
      "execution_count": null,
      "outputs": []
    },
    {
      "cell_type": "code",
      "source": [
        "df.to_csv(\"dataset_labes\", sep=',', encoding='utf-8')"
      ],
      "metadata": {
        "id": "hiwgmA1o8S-n"
      },
      "execution_count": null,
      "outputs": []
    },
    {
      "cell_type": "code",
      "source": [
        "train = train_dataset.image_data_generator"
      ],
      "metadata": {
        "id": "NqpOpIPb8yl-"
      },
      "execution_count": null,
      "outputs": []
    },
    {
      "cell_type": "code",
      "source": [
        "# Get a batch of data from the generator\n",
        "batch = next(train_dataset)\n",
        "\n",
        "# Extract the images and labels from the batch\n",
        "images, labels = batch"
      ],
      "metadata": {
        "id": "hjxsSTlUDlBy"
      },
      "execution_count": null,
      "outputs": []
    },
    {
      "cell_type": "code",
      "source": [
        "\n",
        "\n",
        "# Get the pixel values of the first image in the batch\n",
        "first_image_pixels = images[0]\n",
        "\n",
        "# Print the shape of the pixel values array\n",
        "print(\"Shape of pixel values array:\", first_image_pixels.shape)\n",
        "\n",
        "# converting image to one chanel\n",
        "img_gray= cv2.cvtColor(first_image_pixels,cv2.COLOR_BGR2GRAY)\n",
        "img_gray.shape\n",
        "plt.imshow(img_gray)\n",
        "\n",
        "# Print the pixel values\n",
        "# print(\"Pixel values:\")\n",
        "# print(first_image_pixels)"
      ],
      "metadata": {
        "colab": {
          "base_uri": "https://localhost:8080/",
          "height": 466
        },
        "id": "ud-0t0Zk9Jyo",
        "outputId": "2fff47ba-222f-401d-cb66-9aaecd1364ad"
      },
      "execution_count": null,
      "outputs": [
        {
          "output_type": "stream",
          "name": "stdout",
          "text": [
            "Shape of pixel values array: (28, 28, 3)\n"
          ]
        },
        {
          "output_type": "execute_result",
          "data": {
            "text/plain": [
              "<matplotlib.image.AxesImage at 0x7817c4847fa0>"
            ]
          },
          "metadata": {},
          "execution_count": 121
        },
        {
          "output_type": "display_data",
          "data": {
            "text/plain": [
              "<Figure size 640x480 with 1 Axes>"
            ],
            "image/png": "[encoded data removed]"
          },
          "metadata": {}
        }
      ]
    },
    {
      "cell_type": "markdown",
      "source": [
        "# Final code from here\n",
        "\n",
        "**SEE BELOW\n",
        "**\n"
      ],
      "metadata": {
        "id": "fuvLEB9DIs61"
      }
    },
    {
      "cell_type": "code",
      "source": [
        "\n",
        "# Load the dataset\n",
        "dataset = ImageDataGenerator(rescale=1/255)\n",
        "train_dataset = dataset.flow_from_directory(\n",
        "    '/content/train/',\n",
        "    target_size=(28, 28),\n",
        "    batch_size=10,\n",
        "    class_mode='categorical',\n",
        "    classes=['0', '1', '2', '3', '4', '5', '6', '7', '8', '9'],\n",
        ")\n",
        "\n",
        "# Get the number of samples in your dataset\n",
        "num_samples = train_dataset.samples\n",
        "\n",
        "# Initialize lists to store pixel values and labels\n",
        "pixel_values_list = []\n",
        "labels_list = []\n",
        "\n",
        "# Set batch size\n",
        "batch_size = 10\n",
        "\n",
        "# Iterate over batches to get all pixel values and labels\n",
        "for _ in range(num_samples // batch_size):\n",
        "    batch = next(train_dataset)\n",
        "    images, labels = batch\n",
        "\n",
        "    # Convert images to single-channel (grayscale) and flatten\n",
        "    flattened_images = np.array([cv2.cvtColor(image, cv2.COLOR_BGR2GRAY).flatten() for image in images])\n",
        "\n",
        "    # Convert pixel values to the range [0, 255]\n",
        "    flattened_images = (flattened_images * 255).astype(int)\n",
        "\n",
        "    # Extend the lists with current batch pixel values and labels\n",
        "    pixel_values_list.extend(flattened_images)\n",
        "    labels_list.extend(np.argmax(labels, axis=1).tolist())\n",
        "\n",
        "# Create a CSV file and write pixel values and labels\n",
        "csv_filename = 'pixel_values_and_labels_new.csv'\n",
        "with open(csv_filename, 'w', newline='') as csvfile:\n",
        "    csvwriter = csv.writer(csvfile)\n",
        "\n",
        "    # Write header\n",
        "    header = ['Label'] + [f'{i}x{j}' for i in range(1, 29) for j in range(1, 29)]\n",
        "    csvwriter.writerow(header)\n",
        "\n",
        "    # Write data\n",
        "    for pixel_values, label in zip(pixel_values_list, labels_list):\n",
        "        row = [label] + pixel_values.tolist()\n",
        "        csvwriter.writerow(row)\n",
        "\n",
        "print(f\"CSV file '{csv_filename}' created successfully.\")\n"
      ],
      "metadata": {
        "colab": {
          "base_uri": "https://localhost:8080/"
        },
        "id": "CtkHYl33tMrc",
        "outputId": "65312c79-c050-4f9e-a382-98f86cd17dbd"
      },
      "execution_count": null,
      "outputs": [
        {
          "output_type": "stream",
          "name": "stdout",
          "text": [
            "Found 15620 images belonging to 10 classes.\n",
            "CSV file 'pixel_values_and_labels_new.csv' created successfully.\n"
          ]
        }
      ]
    },
    {
      "cell_type": "code",
      "source": [
        "# # Load the CSV file into a DataFrame\n",
        "# df = pd.read_csv(\"/content/pixel_values_and_labels.csv\")\n",
        "# df.head(5)"
      ],
      "metadata": {
        "id": "WO9eWXUPvEAq"
      },
      "execution_count": null,
      "outputs": []
    },
    {
      "cell_type": "code",
      "source": [
        "\n",
        "# index_to_display = 1\n",
        "# label = df.iloc[index_to_display, 0]\n",
        "# pixel_values = df.iloc[index_to_display, 1:].values\n",
        "\n",
        "# # Reshape the pixel values to a 2D array (28x28)\n",
        "# image_array = np.reshape(pixel_values, (28, 28))\n",
        "\n",
        "# # Display the image using matplotlib\n",
        "# plt.imshow(image_array, cmap='gray')\n",
        "# plt.title(f\"Label: {label}\")\n",
        "# plt.show()\n"
      ],
      "metadata": {
        "id": "tJvNXGXO5k_i"
      },
      "execution_count": null,
      "outputs": []
    },
    {
      "cell_type": "code",
      "source": [
        "import pandas as pd\n",
        "from sklearn.model_selection import train_test_split\n",
        "from sklearn.preprocessing import StandardScaler\n",
        "from sklearn.linear_model import LogisticRegression\n",
        "from sklearn.metrics import accuracy_score\n",
        "\n",
        "# Load the CSV file into a DataFrame\n",
        "df = pd.read_csv(\"/content/pixel_values_and_labels.csv\")\n",
        "\n",
        "# Extract features (pixel values) and labels\n",
        "X = df.iloc[:, 1:].values\n",
        "y = df.iloc[:, 0].values\n",
        "\n",
        "# Split the data into training and testing sets\n",
        "X_train, X_test, y_train, y_test = train_test_split(X, y, test_size=0.2, random_state=42)\n",
        "\n",
        "# Normalize the pixel values using StandardScaler\n",
        "scaler = StandardScaler()\n",
        "X_train = scaler.fit_transform(X_train)\n",
        "X_test = scaler.transform(X_test)\n",
        "\n",
        "# Train a Logistic Regression model\n",
        "model = LogisticRegression(max_iter=1000)\n",
        "model.fit(X_train, y_train)\n",
        "\n",
        "# Predict on the testing set\n",
        "y_pred = model.predict(X_test)\n",
        "\n",
        "# Evaluate the model\n",
        "accuracy = accuracy_score(y_test, y_pred)\n",
        "print(f\"Accuracy: {accuracy * 100:.2f}%\")\n",
        "row_to_test =6\n",
        "true_label = y_test[row_to_test]\n",
        "features_to_test = X_test[row_to_test, :].reshape(1, -1)\n",
        "features_to_test = scaler.transform(features_to_test)\n",
        "predicted_label = model.predict(features_to_test)[0]\n",
        "\n",
        "print(f\"True Label: {true_label}\")\n",
        "print(f\"Predicted Label: {predicted_label}\")\n",
        "\n"
      ],
      "metadata": {
        "colab": {
          "base_uri": "https://localhost:8080/"
        },
        "id": "ZSPh33wWXUwB",
        "outputId": "fd6f00d9-061b-496e-88fa-344eced3a9b7"
      },
      "execution_count": null,
      "outputs": [
        {
          "output_type": "stream",
          "name": "stdout",
          "text": [
            "Accuracy: 79.48%\n",
            "True Label: 8\n",
            "Predicted Label: 4\n"
          ]
        }
      ]
    },
    {
      "cell_type": "code",
      "source": [
        "from sklearn.model_selection import train_test_split\n",
        "from sklearn.preprocessing import StandardScaler\n",
        "from sklearn.linear_model import LogisticRegression\n",
        "from sklearn.metrics import accuracy_score\n",
        "\n",
        "\n",
        "df = pd.read_csv(\"/content/pixel_values_and_labels_new.csv\")\n",
        "# Extract features (pixel values) and labels\n",
        "X = df.iloc[:, 1:].values\n",
        "y = df.iloc[:, 0].values\n",
        "\n",
        "# Split the data into training and testing sets\n",
        "X_train, X_test, y_train, y_test = train_test_split(X, y, test_size=0.2, random_state=42)\n",
        "\n",
        "# Normalize the pixel values using StandardScaler\n",
        "scaler = StandardScaler()\n",
        "X_train = scaler.fit_transform(X_train)\n",
        "X_test = scaler.transform(X_test)\n"
      ],
      "metadata": {
        "id": "PB1MR3LmC_tk"
      },
      "execution_count": null,
      "outputs": []
    },
    {
      "cell_type": "code",
      "source": [
        "\n",
        "# Train a Logistic Regression model\n",
        "model = LogisticRegression(max_iter=1000)\n",
        "model.fit(X_train, y_train)\n",
        "\n",
        "# Predict on the testing set\n",
        "y_pred = model.predict(X_test)\n",
        "\n",
        "# Evaluate the model\n",
        "accuracy = accuracy_score(y_test, y_pred)\n",
        "print(f\"Accuracy: {accuracy * 100:.2f}%\")\n"
      ],
      "metadata": {
        "colab": {
          "base_uri": "https://localhost:8080/"
        },
        "id": "G2Dt4g-eIb0n",
        "outputId": "aed51cac-3183-4053-adc5-d47779ea5e1b"
      },
      "execution_count": null,
      "outputs": [
        {
          "output_type": "stream",
          "name": "stdout",
          "text": [
            "Accuracy: 78.68%\n"
          ]
        }
      ]
    },
    {
      "cell_type": "code",
      "source": [
        "y_pred"
      ],
      "metadata": {
        "colab": {
          "base_uri": "https://localhost:8080/"
        },
        "id": "NCMvb6AYEGm6",
        "outputId": "36c4590b-43c4-4104-ecc0-90d73d81ebf2"
      },
      "execution_count": null,
      "outputs": [
        {
          "output_type": "execute_result",
          "data": {
            "text/plain": [
              "array([8, 9, 4, ..., 4, 6, 9])"
            ]
          },
          "metadata": {},
          "execution_count": 154
        }
      ]
    },
    {
      "cell_type": "code",
      "source": [
        "print(f\"Accuracy: {accuracy * 100:.2f}%\")"
      ],
      "metadata": {
        "colab": {
          "base_uri": "https://localhost:8080/"
        },
        "id": "GY4SjotqDtVx",
        "outputId": "7a702d78-d8c3-46b6-c677-e860a382a32b"
      },
      "execution_count": null,
      "outputs": [
        {
          "output_type": "stream",
          "name": "stdout",
          "text": [
            "Accuracy: 78.68%\n"
          ]
        }
      ]
    },
    {
      "cell_type": "code",
      "source": [
        "y_test[1]"
      ],
      "metadata": {
        "colab": {
          "base_uri": "https://localhost:8080/"
        },
        "id": "lw13ebCEE172",
        "outputId": "8a87449d-890f-4abc-c821-b8a1f6819e18"
      },
      "execution_count": null,
      "outputs": [
        {
          "output_type": "execute_result",
          "data": {
            "text/plain": [
              "9"
            ]
          },
          "metadata": {},
          "execution_count": 156
        }
      ]
    },
    {
      "cell_type": "code",
      "source": [
        "row_to_test =6\n",
        "true_label = y_test[row_to_test]\n",
        "features_to_test = X_test[row_to_test, :].reshape(1, -1)\n",
        "features_to_test = scaler.transform(features_to_test)\n",
        "predicted_label = model.predict(features_to_test)[0]\n",
        "\n",
        "print(f\"True Label: {true_label}\")\n",
        "print(f\"Predicted Label: {predicted_label}\")\n"
      ],
      "metadata": {
        "colab": {
          "base_uri": "https://localhost:8080/"
        },
        "id": "eHUG46HZEfC5",
        "outputId": "02ed50c6-51dd-4d24-f944-137a345d37e3"
      },
      "execution_count": null,
      "outputs": [
        {
          "output_type": "stream",
          "name": "stdout",
          "text": [
            "True Label: 3\n",
            "Predicted Label: 9\n"
          ]
        }
      ]
    },
    {
      "cell_type": "code",
      "execution_count": null,
      "metadata": {
        "id": "O9PSkj3Crx4g"
      },
      "outputs": [],
      "source": [
        "# import shutil\n",
        "\n",
        "# shutil.rmtree('/content')"
      ]
    },
    {
      "cell_type": "code",
      "execution_count": null,
      "metadata": {
        "id": "nHqC9doomwZI"
      },
      "outputs": [],
      "source": []
    }
  ],
  "metadata": {
    "colab": {
      "provenance": [],
      "authorship_tag": "ABX9TyO1SiTYq5EGW3MU0it54itt",
      "include_colab_link": true
    },
    "kernelspec": {
      "display_name": "Python 3",
      "name": "python3"
    },
    "language_info": {
      "name": "python"
    }
  },
  "nbformat": 4,
  "nbformat_minor": 0
}