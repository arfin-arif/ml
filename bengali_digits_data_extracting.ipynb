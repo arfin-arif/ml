{
  "nbformat": 4,
  "nbformat_minor": 0,
  "metadata": {
    "colab": {
      "provenance": [],
      "authorship_tag": "ABX9TyPDDxsnxH4YGMy3pWz95Kek",
      "include_colab_link": true
    },
    "kernelspec": {
      "name": "python3",
      "display_name": "Python 3"
    },
    "language_info": {
      "name": "python"
    }
  },
  "cells": [
    {
      "cell_type": "markdown",
      "metadata": {
        "id": "view-in-github",
        "colab_type": "text"
      },
      "source": [
        "<a href=\"https://colab.research.google.com/github/arfin-arif/ml/blob/main/bengali_digits_data_extracting.ipynb\" target=\"_parent\"><img src=\"https://colab.research.google.com/assets/colab-badge.svg\" alt=\"Open In Colab\"/></a>"
      ]
    },
    {
      "cell_type": "code",
      "execution_count": null,
      "metadata": {
        "id": "6sFO2voOWYuL"
      },
      "outputs": [],
      "source": [
        "!unzip \"/content/bengali_digits.zip\" -d \"/content/digit_images\""
      ]
    },
    {
      "cell_type": "code",
      "source": [
        "import csv\n",
        "import cv2\n",
        "import numpy as np\n",
        "from tensorflow.keras.preprocessing.image import ImageDataGenerator"
      ],
      "metadata": {
        "id": "Fr1VigVgWcJw"
      },
      "execution_count": null,
      "outputs": []
    },
    {
      "cell_type": "code",
      "source": [
        "dataset = ImageDataGenerator(rescale=1/255)\n",
        "train_dataset = dataset.flow_from_directory(\n",
        "    '/content/digit_images',\n",
        "    target_size=(28, 28),\n",
        "    batch_size=32,\n",
        "    class_mode='categorical',\n",
        "    classes=['0', '1', '2', '3', '4', '5', '6', '7', '8', '9'],\n",
        ")"
      ],
      "metadata": {
        "id": "rQNwZW18WdKl"
      },
      "execution_count": null,
      "outputs": []
    },
    {
      "cell_type": "markdown",
      "source": [
        "## **Storing the images pixels value in CSV File**\n"
      ],
      "metadata": {
        "id": "LTl4A9glWunx"
      }
    },
    {
      "cell_type": "code",
      "source": [
        "num_samples = train_dataset.samples\n",
        "pixel_values_list = []\n",
        "labels_list = []\n",
        "batch_size = 32\n",
        "for _ in range(num_samples // batch_size):\n",
        "    batch = next(train_dataset)\n",
        "    images, labels = batch\n",
        "\n",
        "    flattened_images = np.array([cv2.cvtColor(image, cv2.COLOR_BGR2GRAY).flatten() for image in images])\n",
        "     flattened_images = (flattened_images * 255).astype(int)\n",
        "    pixel_values_list.extend(flattened_images)\n",
        "    labels_list.extend(np.argmax(labels, axis=1).tolist())"
      ],
      "metadata": {
        "id": "9W_f5sRaWfCA"
      },
      "execution_count": null,
      "outputs": []
    },
    {
      "cell_type": "code",
      "source": [
        "csv_filename = 'dataset.csv'\n",
        "with open(csv_filename, 'w', newline='') as csvfile:\n",
        "    csvwriter = csv.writer(csvfile)\n",
        "\n",
        "    # Write header\n",
        "    header = ['Label'] + [f'{i}x{j}' for i in range(1, 29) for j in range(1, 29)]\n",
        "    csvwriter.writerow(header)\n",
        "\n",
        "    # Write data\n",
        "    for pixel_values, label in zip(pixel_values_list, labels_list):\n",
        "        row = [label] + pixel_values.tolist()\n",
        "        csvwriter.writerow(row)\n",
        "\n",
        "print(f\"CSV file '{csv_filename}' created successfully.\")"
      ],
      "metadata": {
        "id": "Rn8kks4YXyTo"
      },
      "execution_count": null,
      "outputs": []
    }
  ]
}